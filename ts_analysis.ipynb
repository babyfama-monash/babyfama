{
 "cells": [
  {
   "cell_type": "markdown",
   "id": "a0e3e433-c3f1-471c-80fc-031067dcafe9",
   "metadata": {},
   "source": [
    "## <span style='color:#005f73; font-family:Lucida Grande; background-color:#fffbed'><strong>MDSS Datathon Oct 21</strong></span>\n",
    "\n",
    "---\n",
    "<span style='font-family:Lucida Grande'><strong> Team members </strong></span>\n",
    "\n",
    "\n",
    "Ruo-Yu Chou\n",
    "rcho0031@student.monash.edu\n",
    "\n",
    "Fu Pong Chu fchu0005@student.monash.edu\n",
    "\n",
    "Yi-Ching Hungyhun0004@student.monash.edu\n",
    "\n",
    "Kevin Giam kgia0002@student.monash.edu"
   ]
  },
  {
   "cell_type": "markdown",
   "id": "42ebb451-32d3-42a4-8a5e-fb54a8708c4e",
   "metadata": {},
   "source": [
    "### <span style='color:#0a9396; font-family:Lucida Grande; background-color:#fffbed'><strong>Data Cleaning and Descriptive Statistics</strong></span>"
   ]
  },
  {
   "cell_type": "markdown",
   "id": "e0e8aab1-9aca-453a-b489-595d7d0dc137",
   "metadata": {},
   "source": [
    "#### <span style='color:#ee9b00; font-family:Lucida Grande; background-color:#fffbed'><strong>Data Cleaning</strong></span>"
   ]
  },
  {
   "cell_type": "code",
   "execution_count": 1,
   "id": "217ecf90-2a7d-4943-b3a9-fcb607f8082a",
   "metadata": {},
   "outputs": [],
   "source": [
    "# Import statements\n",
    "import pandas as pd"
   ]
  },
  {
   "cell_type": "code",
   "execution_count": null,
   "id": "f482bde9-eabc-4b51-bde6-50d3a8fe8e02",
   "metadata": {},
   "outputs": [],
   "source": [
    "# Read the CSV data\n",
    "df_retail = pd.read_csv()"
   ]
  },
  {
   "cell_type": "code",
   "execution_count": null,
   "id": "bf92933d-0d75-46b9-b2b5-8ad739b554df",
   "metadata": {},
   "outputs": [],
   "source": [
    "# Handling duplicate data\n",
    "df_retail.duplicated()\n",
    "df_retail.drop_duplicates(inplace=True) "
   ]
  },
  {
   "cell_type": "code",
   "execution_count": null,
   "id": "a6b8de18-350b-4be2-a891-e00d37099767",
   "metadata": {},
   "outputs": [],
   "source": [
    "# Handling null values\n",
    "tab_info = tab_info.append(pd.DataFrame(df.isnull().sum()).T.rename(index={0:'null values (nb)'}))\n",
    "tab_info.append(pd.DataFrame(df.isnull().sum()/df.shape[0]*100).T.rename(index={0: 'null values (%)'}))\n",
    "\n",
    "df.fillna()"
   ]
  },
  {
   "cell_type": "code",
   "execution_count": null,
   "id": "0163f8e6-9e0b-4807-a11c-0b2723d4a7d2",
   "metadata": {},
   "outputs": [],
   "source": [
    "# Merge DataFrame\n",
    "df=pd.merge(sales,features, on=['Store','Date', 'IsHoliday'], how='left')"
   ]
  },
  {
   "cell_type": "markdown",
   "id": "eef7c6cd-de65-451d-be3a-0a61c3ebb77d",
   "metadata": {},
   "source": [
    "#### <span style='color:#ee9b00; font-family:Lucida Grande; background-color:#fffbed'><strong>Descriptive Statistics</strong></span>"
   ]
  },
  {
   "cell_type": "code",
   "execution_count": null,
   "id": "b398f475-2736-42b3-987b-72d7f7c72660",
   "metadata": {},
   "outputs": [],
   "source": [
    "# Analyze the first 5 rows of the DataFrame\n",
    "df_retail.head()"
   ]
  },
  {
   "cell_type": "code",
   "execution_count": null,
   "id": "3cf2751e-2aa0-4cb5-a2c1-9a1af5326d36",
   "metadata": {},
   "outputs": [],
   "source": [
    "# Describe the DataFrame\n",
    "df.describe()"
   ]
  },
  {
   "cell_type": "code",
   "execution_count": null,
   "id": "5f8fa6a1-aef2-4e09-b1ca-5c9d54442e1c",
   "metadata": {},
   "outputs": [],
   "source": [
    "# Unique values for each column\n",
    "print(f\"There are {} of unique items in {} column.\")\n",
    "df.item.unique()\n",
    "df.<column_name>.nunique"
   ]
  },
  {
   "cell_type": "code",
   "execution_count": null,
   "id": "1fd2214e-4b93-4f47-88dc-71438f80b0eb",
   "metadata": {},
   "outputs": [],
   "source": [
    "# DataFrame shape\n",
    "df_retail.shape"
   ]
  },
  {
   "cell_type": "code",
   "execution_count": null,
   "id": "d5310bd3-5f32-40d4-883b-788e8daeb759",
   "metadata": {},
   "outputs": [],
   "source": [
    "# Data Types\n",
    "tab_info = pd.DataFrame(df.dtypes).T.rename(index={0:'column Type'}) "
   ]
  },
  {
   "cell_type": "markdown",
   "id": "20b4ad73-9b81-42d8-b659-4af1c9ca3152",
   "metadata": {},
   "source": [
    "#### <span style='color:#ee9b00; font-family:Lucida Grande; background-color:#fffbed'><strong>Time Series Data</strong></span>"
   ]
  },
  {
   "cell_type": "code",
   "execution_count": null,
   "id": "e20badb1-3302-4fa1-b96a-a37adbe232e0",
   "metadata": {},
   "outputs": [],
   "source": [
    "# Convert the DataFrame into a time-series data\n",
    "to_datetime\n",
    "set_index()"
   ]
  },
  {
   "cell_type": "markdown",
   "id": "ccdf9a62-d9ae-4876-96d2-53f922c913a8",
   "metadata": {},
   "source": [
    "#### <span style='color:#ee9b00; font-family:Lucida Grande; background-color:#fffbed'><strong>Factorization</strong></span>"
   ]
  },
  {
   "cell_type": "code",
   "execution_count": null,
   "id": "84b5b54b-f2c0-4f1e-9ae6-dd0495b05ca1",
   "metadata": {},
   "outputs": [],
   "source": [
    "Converting categorical data to 0 and 1 (if needed)\n",
    "types_encoded, types =df['Type'].factorize()\n",
    "df['Type'] = types_encoded\n",
    "\n",
    "1.7.2 use df[‘column’].map({“A”: 1, “B”: 2}).fillna(0) instead of words for the model. (e.g. df[‘Sex’] = df[‘Sex’].map({“male”: 0, “female”: 1})\n",
    "1.7.3 Drop useless column, e.g. passengerID derive passenger Name, so remove passenger Name.\n",
    "1.7.4 Fix null by filling it as 0 or median, depending on the model."
   ]
  },
  {
   "cell_type": "markdown",
   "id": "96b79032-db7f-472f-8457-3ec71124c53d",
   "metadata": {},
   "source": [
    "#### <span style='color:#ee9b00; font-family:Lucida Grande; background-color:#fffbed'><strong>Cleaned Data</strong></span>"
   ]
  },
  {
   "cell_type": "code",
   "execution_count": null,
   "id": "7a2e73d6-2f30-4c4a-b891-dbc2a6dc40b7",
   "metadata": {},
   "outputs": [],
   "source": [
    "df_retail.head()"
   ]
  },
  {
   "cell_type": "code",
   "execution_count": null,
   "id": "11954739-bc8e-41cf-baec-f3b8c6957e2e",
   "metadata": {},
   "outputs": [],
   "source": [
    "# Export the cleaned data to CSV\n",
    "df_retail.to_csv()"
   ]
  },
  {
   "cell_type": "code",
   "execution_count": null,
<<<<<<< HEAD
   "id": "f1f77a70-c7e4-4d2d-b4de-6455ffacd200",
   "metadata": {},
   "outputs": [],
   "source": [
    "df"
=======
   "id": "e74c1c2b",
   "metadata": {},
   "outputs": [],
   "source": [
    "# this is test row for the fubonbranch"
>>>>>>> 9507d425b3e5abc800ffa492161e84184ea5ee8f
   ]
  }
 ],
 "metadata": {
  "kernelspec": {
   "display_name": "Python 3",
   "language": "python",
   "name": "python3"
  },
  "language_info": {
   "codemirror_mode": {
    "name": "ipython",
    "version": 3
   },
   "file_extension": ".py",
   "mimetype": "text/x-python",
   "name": "python",
   "nbconvert_exporter": "python",
   "pygments_lexer": "ipython3",
   "version": "3.8.8"
  }
 },
 "nbformat": 4,
 "nbformat_minor": 5
}
